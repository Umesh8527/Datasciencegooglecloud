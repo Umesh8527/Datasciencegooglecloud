{
  "nbformat": 4,
  "nbformat_minor": 0,
  "metadata": {
    "colab": {
      "provenance": [],
      "authorship_tag": "ABX9TyNXVaHE+ZV+byoeicwLQKWz",
      "include_colab_link": true
    },
    "kernelspec": {
      "name": "python3",
      "display_name": "Python 3"
    },
    "language_info": {
      "name": "python"
    }
  },
  "cells": [
    {
      "cell_type": "markdown",
      "metadata": {
        "id": "view-in-github",
        "colab_type": "text"
      },
      "source": [
        "<a href=\"https://colab.research.google.com/github/Umesh8527/Datasciencegooglecloud/blob/main/Untitled0.ipynb\" target=\"_parent\"><img src=\"https://colab.research.google.com/assets/colab-badge.svg\" alt=\"Open In Colab\"/></a>"
      ]
    },
    {
      "cell_type": "code",
      "execution_count": null,
      "metadata": {
        "id": "YcfPjfv2RHU2"
      },
      "outputs": [],
      "source": []
    },
    {
      "cell_type": "code",
      "source": [
        "print(\"Hello world iam learning python\")\n"
      ],
      "metadata": {
        "id": "AjsW-wdyXKpr"
      },
      "execution_count": null,
      "outputs": []
    },
    {
      "cell_type": "markdown",
      "source": [
        "##this is my first text message in python"
      ],
      "metadata": {
        "id": "d1Emyx1QX_Jv"
      }
    },
    {
      "cell_type": "code",
      "source": [
        "city = \"Ghaziabad\";\n"
      ],
      "metadata": {
        "id": "zvBSSiK7YIpj"
      },
      "execution_count": null,
      "outputs": []
    },
    {
      "cell_type": "code",
      "source": [
        "def Totaltrip(city,tripno,Totaltrip):\n",
        "\n",
        "    city = \"Ghaziabad\"; \n",
        "\n",
        "tripno= \"10\";\n",
        "\n",
        "Totaltrip = \"i have to go to \" +city+ \" \"+ str(tripno)+ \" \" + \"times\";\n",
        "  return(city,tripno,Totaltrip);\n",
        "  print(Totaltrip);\n",
        "\n"
      ],
      "metadata": {
        "id": "tOBCK-1nSqB7"
      },
      "execution_count": null,
      "outputs": []
    },
    {
      "cell_type": "code",
      "source": [
        "def text():\n",
        "    b = \"please give me a pen\"\n",
        "    return b\n",
        "\n",
        "c=text();\n",
        "a=c.upper()\n",
        "print(a)\n",
        "print(c.capitalize())\n",
        "print(c.replace('pen','Pencil'))\n",
        "print(c.find('pen'))\n",
        "print(c.find('give'))\n",
        "print(c.lower())\n"
      ],
      "metadata": {
        "colab": {
          "base_uri": "https://localhost:8080/"
        },
        "id": "g8EU6KTlraTS",
        "outputId": "602e564d-0d0b-4bd1-f4c3-c267a77982d4"
      },
      "execution_count": null,
      "outputs": [
        {
          "output_type": "stream",
          "name": "stdout",
          "text": [
            "PLEASE GIVE ME A PEN\n",
            "Please give me a pen\n",
            "please give me a Pencil\n",
            "17\n",
            "7\n",
            "please give me a pen\n"
          ]
        }
      ]
    },
    {
      "cell_type": "code",
      "source": [
        "def text():\n",
        "    b = \"please give me a pen\"\n",
        "    return b\n",
        "\n",
        "# call the text function and store the returned value in a variable called c\n",
        "c = text()\n",
        "a=c.upper()\n",
        "print(a)\n",
        "# apply various string methods on the string stored in c\n",
        "\n",
        "print(c.capitalize())\n",
        "print(c.replace('pen', 'pencil'))\n",
        "print(c.find('pen'))\n",
        "print(c.find('give'))\n",
        "print(c.lower())\n"
      ],
      "metadata": {
        "colab": {
          "base_uri": "https://localhost:8080/"
        },
        "id": "IuJ0DG7etifd",
        "outputId": "def2a1cc-7110-4727-dfe7-7123f7959f97"
      },
      "execution_count": null,
      "outputs": [
        {
          "output_type": "stream",
          "name": "stdout",
          "text": [
            "PLEASE GIVE ME A PEN\n",
            "Please give me a pen\n",
            "please give me a pencil\n",
            "17\n",
            "7\n",
            "please give me a pen\n"
          ]
        }
      ]
    },
    {
      "cell_type": "code",
      "source": [
        "from typing import List\n",
        "List= [\"umesh\",\"Priyanka\",\"Navneet\",\"Mansi\",\"Vipin\"];\n",
        "print(List[0:7])\n",
        "      "
      ],
      "metadata": {
        "id": "u5JoMvQ4s7A5",
        "colab": {
          "base_uri": "https://localhost:8080/"
        },
        "outputId": "d9a29096-1045-479f-8e7d-fde0b3e7ee7a"
      },
      "execution_count": 12,
      "outputs": [
        {
          "output_type": "stream",
          "name": "stdout",
          "text": [
            "['umesh', 'Priyanka', 'Navneet', 'Mansi', 'Vipin']\n"
          ]
        }
      ]
    },
    {
      "cell_type": "code",
      "source": [
        "from typing import List\n",
        "List= ['umesh','Priyanka','Navneet','Mansi','Vipin'];\n",
        "print(List[-4])"
      ],
      "metadata": {
        "colab": {
          "base_uri": "https://localhost:8080/"
        },
        "id": "jPvdB_HrRp6z",
        "outputId": "04a0da03-103a-43a1-d53d-37ae0e7a1867"
      },
      "execution_count": 19,
      "outputs": [
        {
          "output_type": "stream",
          "name": "stdout",
          "text": [
            "Priyanka\n"
          ]
        }
      ]
    },
    {
      "cell_type": "code",
      "source": [
        "strangeList = [4, 10.2, 'Marion Weaver', ['another list', 1]]\n",
        "print(strangeList[0:4])"
      ],
      "metadata": {
        "colab": {
          "base_uri": "https://localhost:8080/"
        },
        "id": "Qfb6oFyFUGCK",
        "outputId": "853a68ae-33da-4c1c-93d5-4929b5710c6e"
      },
      "execution_count": 25,
      "outputs": [
        {
          "output_type": "stream",
          "name": "stdout",
          "text": [
            "[4, 10.2, 'Marion Weaver', ['another list', 1]]\n"
          ]
        }
      ]
    }
  ]
}