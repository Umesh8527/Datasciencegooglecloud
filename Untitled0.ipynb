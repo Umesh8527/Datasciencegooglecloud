{
  "nbformat": 4,
  "nbformat_minor": 0,
  "metadata": {
    "colab": {
      "provenance": [],
      "authorship_tag": "ABX9TyO5Sjl44/Q0gvGZsxV0xns8",
      "include_colab_link": true
    },
    "kernelspec": {
      "name": "python3",
      "display_name": "Python 3"
    },
    "language_info": {
      "name": "python"
    }
  },
  "cells": [
    {
      "cell_type": "markdown",
      "metadata": {
        "id": "view-in-github",
        "colab_type": "text"
      },
      "source": [
        "<a href=\"https://colab.research.google.com/github/Umesh8527/Datasciencegooglecloud/blob/main/Untitled0.ipynb\" target=\"_parent\"><img src=\"https://colab.research.google.com/assets/colab-badge.svg\" alt=\"Open In Colab\"/></a>"
      ]
    },
    {
      "cell_type": "code",
      "execution_count": null,
      "metadata": {
        "id": "YcfPjfv2RHU2"
      },
      "outputs": [],
      "source": []
    },
    {
      "cell_type": "code",
      "source": [
        "print(\"Hello world iam learning python\")\n"
      ],
      "metadata": {
        "id": "AjsW-wdyXKpr"
      },
      "execution_count": null,
      "outputs": []
    },
    {
      "cell_type": "markdown",
      "source": [
        "##this is my first text message in python"
      ],
      "metadata": {
        "id": "d1Emyx1QX_Jv"
      }
    },
    {
      "cell_type": "code",
      "source": [
        "city = \"Ghaziabad\";\n"
      ],
      "metadata": {
        "id": "zvBSSiK7YIpj"
      },
      "execution_count": null,
      "outputs": []
    },
    {
      "cell_type": "code",
      "source": [
        "def Totaltrip(city,tripno,Totaltrip):\n",
        "\n",
        "    city = \"Ghaziabad\"; \n",
        "\n",
        "tripno= \"10\";\n",
        "\n",
        "Totaltrip = \"i have to go to \" +city+ \" \"+ str(tripno)+ \" \" + \"times\";\n",
        "  return(city,tripno,Totaltrip);\n",
        "  print(Totaltrip);\n",
        "\n"
      ],
      "metadata": {
        "id": "tOBCK-1nSqB7"
      },
      "execution_count": null,
      "outputs": []
    },
    {
      "cell_type": "code",
      "source": [
        "def text():\n",
        "    b = \"please give me a pen\"\n",
        "    return b\n",
        "\n",
        "c=text();\n",
        "a=c.upper()\n",
        "print(a)\n",
        "print(c.capitalize())\n",
        "print(c.replace('pen','Pencil'))\n",
        "print(c.find('pen'))\n",
        "print(c.find('give'))\n",
        "print(c.lower())\n"
      ],
      "metadata": {
        "colab": {
          "base_uri": "https://localhost:8080/"
        },
        "id": "g8EU6KTlraTS",
        "outputId": "602e564d-0d0b-4bd1-f4c3-c267a77982d4"
      },
      "execution_count": null,
      "outputs": [
        {
          "output_type": "stream",
          "name": "stdout",
          "text": [
            "PLEASE GIVE ME A PEN\n",
            "Please give me a pen\n",
            "please give me a Pencil\n",
            "17\n",
            "7\n",
            "please give me a pen\n"
          ]
        }
      ]
    },
    {
      "cell_type": "code",
      "source": [
        "def text():\n",
        "    b = \"please give me a pen\"\n",
        "    return b\n",
        "\n",
        "# call the text function and store the returned value in a variable called c\n",
        "c = text()\n",
        "a=c.upper()\n",
        "print(a)\n",
        "# apply various string methods on the string stored in c\n",
        "\n",
        "print(c.capitalize())\n",
        "print(c.replace('pen', 'pencil'))\n",
        "print(c.find('pen'))\n",
        "print(c.find('give'))\n",
        "print(c.lower())\n"
      ],
      "metadata": {
        "colab": {
          "base_uri": "https://localhost:8080/"
        },
        "id": "IuJ0DG7etifd",
        "outputId": "def2a1cc-7110-4727-dfe7-7123f7959f97"
      },
      "execution_count": null,
      "outputs": [
        {
          "output_type": "stream",
          "name": "stdout",
          "text": [
            "PLEASE GIVE ME A PEN\n",
            "Please give me a pen\n",
            "please give me a pencil\n",
            "17\n",
            "7\n",
            "please give me a pen\n"
          ]
        }
      ]
    },
    {
      "cell_type": "code",
      "source": [
        "from typing import List\n",
        "List= [\"umesh\",\"Priyanka\",\"Navneet\",\"Mansi\",\"Vipin\"];\n",
        "print(List[0:7])\n",
        "      "
      ],
      "metadata": {
        "id": "u5JoMvQ4s7A5",
        "colab": {
          "base_uri": "https://localhost:8080/"
        },
        "outputId": "d9a29096-1045-479f-8e7d-fde0b3e7ee7a"
      },
      "execution_count": 12,
      "outputs": [
        {
          "output_type": "stream",
          "name": "stdout",
          "text": [
            "['umesh', 'Priyanka', 'Navneet', 'Mansi', 'Vipin']\n"
          ]
        }
      ]
    },
    {
      "cell_type": "code",
      "source": [
        "from typing import List\n",
        "List= ['umesh','Priyanka','Navneet','Mansi','Vipin'];\n",
        "print(List[-4])"
      ],
      "metadata": {
        "colab": {
          "base_uri": "https://localhost:8080/"
        },
        "id": "jPvdB_HrRp6z",
        "outputId": "04a0da03-103a-43a1-d53d-37ae0e7a1867"
      },
      "execution_count": 19,
      "outputs": [
        {
          "output_type": "stream",
          "name": "stdout",
          "text": [
            "Priyanka\n"
          ]
        }
      ]
    },
    {
      "cell_type": "code",
      "source": [
        "strangeList = [4, 10.2, 'Marion Weaver', ['another list', 1]]\n",
        "print(strangeList[0:4])"
      ],
      "metadata": {
        "colab": {
          "base_uri": "https://localhost:8080/"
        },
        "id": "Qfb6oFyFUGCK",
        "outputId": "853a68ae-33da-4c1c-93d5-4929b5710c6e"
      },
      "execution_count": 25,
      "outputs": [
        {
          "output_type": "stream",
          "name": "stdout",
          "text": [
            "[4, 10.2, 'Marion Weaver', ['another list', 1]]\n"
          ]
        }
      ]
    },
    {
      "cell_type": "code",
      "source": [
        "accounts = {'Marion Weaver': 10000, 'Alberto Mendoza': 150, 'Katharine Tyler': 300, 'Isaac Steele': 1800.74}\n",
        "print(accounts['Alberto Mendoza']) # -> 150"
      ],
      "metadata": {
        "colab": {
          "base_uri": "https://localhost:8080/"
        },
        "id": "6e-WjBOmC4WA",
        "outputId": "1fcdf595-93c9-4c0d-bce0-e9422d42228f"
      },
      "execution_count": 1,
      "outputs": [
        {
          "output_type": "stream",
          "name": "stdout",
          "text": [
            "150\n"
          ]
        }
      ]
    },
    {
      "cell_type": "code",
      "source": [
        "accounts['Alberto'] = 100 # I subtract 2000 from David's account\n",
        "accounts['Marion Weaver'] -= 2000 # I subtract 2000 from David's account\n",
        "accounts['Kristian Roach'] = 1000 # I add a new individual in my dictionary\n",
        "print(accounts['Kristian Roach']) # I print the value of Kristian's account\n",
        "accounts.pop('Alberto') # deletes Alberto Mendoza from our dictionary\n",
        "len(accounts) # -> 3\n",
        "my_tuple = (1, 2, 3, 'a', 'b')\n",
        "print(my_tuple[1]) # -> 2\n",
        "print(my_tuple[4]) # -> 'b'\n",
        "a, b = (1, 'apple')\n",
        "print(a) # -> 1\n",
        "print(b) # -> 'apple'"
      ],
      "metadata": {
        "colab": {
          "base_uri": "https://localhost:8080/"
        },
        "id": "4yEuKsbtDNW6",
        "outputId": "857ca8d5-94ac-4f24-de8b-6df49bb1e543"
      },
      "execution_count": 11,
      "outputs": [
        {
          "output_type": "stream",
          "name": "stdout",
          "text": [
            "1000\n",
            "2\n",
            "b\n",
            "1\n",
            "apple\n"
          ]
        }
      ]
    },
    {
      "cell_type": "code",
      "source": [
        "list = []\n",
        "list.append(7) # -> [7]\n",
        "list.append(5) # -> [7, 5]\n",
        "list.insert(1,12) # [7, 12, 5]\n",
        "list[0] = 4 # -> [4, 12, 5]\n",
        "list.remove(12) # [4, 5]\n",
        "list.index(5) # prints 1\n",
        "list.extend([1, 2, 3]) # [4, 5, 1, 2, 3]\n",
        "print(list)\n",
        "#->del list[3] # [4, 5, 1, 3]"
      ],
      "metadata": {
        "colab": {
          "base_uri": "https://localhost:8080/"
        },
        "id": "A1bofT0-Hwuc",
        "outputId": "13f784b4-6983-41e9-9863-726ecb7375a7"
      },
      "execution_count": 14,
      "outputs": [
        {
          "output_type": "stream",
          "name": "stdout",
          "text": [
            "[4, 5, 1, 2, 3]\n"
          ]
        }
      ]
    }
  ]
}